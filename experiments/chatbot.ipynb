{
 "cells": [
  {
   "attachments": {},
   "cell_type": "markdown",
   "metadata": {},
   "source": [
    "### Let's develop a chatbot based on groq llms using langchain and deploy it on haggingface "
   ]
  },
  {
   "cell_type": "code",
   "execution_count": 29,
   "metadata": {},
   "outputs": [],
   "source": [
    "import os \n",
    "import warnings\n",
    "from langchain_groq import ChatGroq\n",
    "from langchain_community.llms import HuggingFaceEndpoint\n",
    "\n",
    "warnings.filterwarnings(\"ignore\")"
   ]
  },
  {
   "cell_type": "code",
   "execution_count": null,
   "metadata": {},
   "outputs": [],
   "source": [
    "#Test wether api key is there or not\n",
    "os.environ[\"HUGGINGFACE_API_TOKEN\"]"
   ]
  },
  {
   "cell_type": "code",
   "execution_count": 5,
   "metadata": {},
   "outputs": [],
   "source": [
    "groq_llm = ChatGroq(\n",
    "    groq_api_key = os.environ[\"GROQ_API_KEY\"],\n",
    "    model_name = \"llama-3.1-8b-instant\", #Check groq website for other llm ids\n",
    "    temperature = 0.6 \n",
    ")"
   ]
  },
  {
   "cell_type": "code",
   "execution_count": 7,
   "metadata": {},
   "outputs": [
    {
     "name": "stdout",
     "output_type": "stream",
     "text": [
      "Hello. I can see that you've initiated a conversation. I'm here to assist you with any questions or topics you'd like to discuss. How can I help you today?\n"
     ]
    }
   ],
   "source": [
    "#test\n",
    "test_prompt = \"Hello, do you hear me ?\"\n",
    "response = groq_llm.invoke(test_prompt)\n",
    "print (response.content)"
   ]
  },
  {
   "cell_type": "code",
   "execution_count": 10,
   "metadata": {},
   "outputs": [
    {
     "data": {
      "text/plain": [
       "'Hello, yes I hear you. Is there something I can help you with or would you like to chat?'"
      ]
     },
     "execution_count": 10,
     "metadata": {},
     "output_type": "execute_result"
    }
   ],
   "source": [
    "#test 2\n",
    "groq_llm.predict(test_prompt)"
   ]
  },
  {
   "cell_type": "code",
   "execution_count": 37,
   "metadata": {},
   "outputs": [],
   "source": [
    "flan_t5_llm = HuggingFaceEndpoint(huggingfacehub_api_token = os.environ[\"HUGGINGFACE_API_TOKEN\"],\n",
    "                                repo_id=\"google/flan-t5-large\", \n",
    "                                task = 'text-generation',\n",
    "                                temperature = 0)"
   ]
  },
  {
   "cell_type": "code",
   "execution_count": null,
   "metadata": {},
   "outputs": [],
   "source": [
    "flan_t5_llm.invoke(\"hello\")"
   ]
  },
  {
   "attachments": {},
   "cell_type": "markdown",
   "metadata": {},
   "source": [
    "### Prompt Templates "
   ]
  },
  {
   "cell_type": "code",
   "execution_count": 45,
   "metadata": {},
   "outputs": [],
   "source": [
    "from langchain.prompts import PromptTemplate\n",
    "from langchain.chains import LLMChain"
   ]
  },
  {
   "cell_type": "code",
   "execution_count": 43,
   "metadata": {},
   "outputs": [
    {
     "data": {
      "text/plain": [
       "'What are 5 synonyms of word impossible'"
      ]
     },
     "execution_count": 43,
     "metadata": {},
     "output_type": "execute_result"
    }
   ],
   "source": [
    "prompt_template = PromptTemplate(input_variables = [\"word\"],\n",
    "                                 template = \"What are 5 synonyms of word {word}\")\n",
    "prompt_template.format(word = \"impossible\")"
   ]
  },
  {
   "cell_type": "code",
   "execution_count": 48,
   "metadata": {},
   "outputs": [
    {
     "name": "stdout",
     "output_type": "stream",
     "text": [
      "Here are 5 synonyms for the word \"impossible\":\n",
      "\n",
      "1. Unfeasible\n",
      "2. Inconceivable\n",
      "3. Unthinkable\n",
      "4. Unachievable\n",
      "5. Unattainable\n"
     ]
    }
   ],
   "source": [
    "chain = LLMChain(llm = groq_llm, prompt = prompt_template)\n",
    "synonyme_response = chain.run(\"impossible\")\n",
    "print (synonyme_response)"
   ]
  },
  {
   "cell_type": "code",
   "execution_count": 49,
   "metadata": {},
   "outputs": [
    {
     "name": "stdout",
     "output_type": "stream",
     "text": [
      "Here are 5 synonyms of the word \"possible\":\n",
      "\n",
      "1. Feasible\n",
      "2. Probable\n",
      "3. Viable\n",
      "4. Plausible\n",
      "5. Likely\n"
     ]
    }
   ],
   "source": [
    "print (chain.run(\"possible\"))"
   ]
  },
  {
   "attachments": {},
   "cell_type": "markdown",
   "metadata": {},
   "source": [
    "the "
   ]
  }
 ],
 "metadata": {
  "kernelspec": {
   "display_name": "chatbot-venv",
   "language": "python",
   "name": "python3"
  },
  "language_info": {
   "codemirror_mode": {
    "name": "ipython",
    "version": 3
   },
   "file_extension": ".py",
   "mimetype": "text/x-python",
   "name": "python",
   "nbconvert_exporter": "python",
   "pygments_lexer": "ipython3",
   "version": "3.10.7"
  },
  "orig_nbformat": 4
 },
 "nbformat": 4,
 "nbformat_minor": 2
}
